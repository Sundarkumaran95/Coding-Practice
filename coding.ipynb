{
 "cells": [
  {
   "cell_type": "code",
   "execution_count": 1,
   "id": "36ed6dd4",
   "metadata": {},
   "outputs": [
    {
     "name": "stdout",
     "output_type": "stream",
     "text": [
      "4\n",
      "a3 a4 a3 a5 a4\n",
      "a3 a4 a5\n"
     ]
    }
   ],
   "source": [
    "n = int(input())\n",
    "a = input().split()\n",
    "Unique_id=[]\n",
    "Duplicate_id=[]\n",
    "for i in a:\n",
    "    if i not in Unique_id:\n",
    "        Unique_id.append(i)\n",
    "    else:\n",
    "        Duplicate_id.append(i)\n",
    "print(*Unique_id)"
   ]
  },
  {
   "cell_type": "code",
   "execution_count": null,
   "id": "2e64efc4",
   "metadata": {},
   "outputs": [],
   "source": []
  }
 ],
 "metadata": {
  "kernelspec": {
   "display_name": "Python 3 (ipykernel)",
   "language": "python",
   "name": "python3"
  },
  "language_info": {
   "codemirror_mode": {
    "name": "ipython",
    "version": 3
   },
   "file_extension": ".py",
   "mimetype": "text/x-python",
   "name": "python",
   "nbconvert_exporter": "python",
   "pygments_lexer": "ipython3",
   "version": "3.9.12"
  }
 },
 "nbformat": 4,
 "nbformat_minor": 5
}
